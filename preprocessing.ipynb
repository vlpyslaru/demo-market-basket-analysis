{
 "cells": [
  {
   "cell_type": "markdown",
   "metadata": {},
   "source": [
    "## Preprocessing\n",
    "\n",
    "Cleaning data and preprocessing for mining. This step is based on information concluded from data check.\n",
    "\n",
    "Cleaning is encapsulated in __utils.clean_orders__ and its main purpose is to remove orders with non-positive material quantities and multiple dates.\n",
    "\n",
    "Preprocessing by __utils.encode_orders__ encodes multiple rows per order format of data to single one-hot row per order, thus producing huge but sparse matrix of order-by-material format, with false/true cell values corresponding to absence/presence of any quantity of material in column for order in row. Order date and organization, being single for each order, are joined to order-by-material matrix.\n",
    "\n",
    "Preprocessed orders are buffered to pkl in order to be fastly reused in mining"
   ]
  },
  {
   "cell_type": "code",
   "execution_count": 1,
   "metadata": {},
   "outputs": [],
   "source": [
    "from utils import read_orders, clean_orders, encode_orders"
   ]
  },
  {
   "cell_type": "code",
   "execution_count": 2,
   "metadata": {},
   "outputs": [],
   "source": [
    "orders = clean_orders(read_orders())"
   ]
  },
  {
   "cell_type": "code",
   "execution_count": 3,
   "metadata": {},
   "outputs": [],
   "source": [
    "orders_encoded = encode_orders(orders)"
   ]
  },
  {
   "cell_type": "code",
   "execution_count": 4,
   "metadata": {},
   "outputs": [],
   "source": [
    "orders_encoded.to_pickle('data/orders_p.pkl.gz')"
   ]
  },
  {
   "cell_type": "code",
   "execution_count": 5,
   "metadata": {},
   "outputs": [
    {
     "name": "stdout",
     "output_type": "stream",
     "text": [
      "There are 2291173 orders with one-hot encoded 21213 materials, cleaned and ready for mining\n"
     ]
    }
   ],
   "source": [
    "print('There are {} orders with one-hot encoded {} materials, cleaned and ready for mining'\n",
    "    .format(\n",
    "        orders_encoded.shape[0],\n",
    "        len(set(orders_encoded.columns).difference({ 'order_date', 'org' }))\n",
    "    )\n",
    ")"
   ]
  }
 ],
 "metadata": {
  "kernelspec": {
   "display_name": "Python 3",
   "language": "python",
   "name": "python3"
  },
  "language_info": {
   "codemirror_mode": {
    "name": "ipython",
    "version": 3
   },
   "file_extension": ".py",
   "mimetype": "text/x-python",
   "name": "python",
   "nbconvert_exporter": "python",
   "pygments_lexer": "ipython3",
   "version": "3.7.6"
  }
 },
 "nbformat": 4,
 "nbformat_minor": 4
}
