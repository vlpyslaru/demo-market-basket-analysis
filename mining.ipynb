{
 "cells": [
  {
   "cell_type": "markdown",
   "metadata": {},
   "source": [
    "## Association mining\n",
    "\n",
    "The main goal of market basket analysis is to find association rules, uncovering strong conditional dependencies between groups of items. Eventually, MBA comes up with rules, consisting of antecedents (one itemset), which form condition, and consequents (another itemset), which are dependent on antecedents.\n",
    "\n",
    "There are many ways to measure magnitudes of relation among itemsets. The main metrics in MBA are:\n",
    "- support = probability of itemset\n",
    "- confidence = conditional probability of consequents, given antecedents present\n",
    "- lift = confidence divided by support of consequents, or, put simply, raise in probability, given antecedents present\n",
    "\n",
    "MBA is performed by __utils.mine_associations__ with two separate steps. First step finds all frequent enough itemsets, using FP-Growth algorithm (smart Apriori alternative). Second step, mixes different itemsets to find confident enough rules. As a result there is tabular data, prodiving consequents and antecedents, and all usefull metrics values.\n",
    "\n",
    "As there is huge sparse portion of encoded data, several tricks were used to speed computations up: \n",
    "- __utils.yield_materials_support__ calculates support value per each material, by estimating sparse columns density. Thus, encoded materials could be filtered by support threshold  before using full scale MBA.\n",
    "- __utils.locate_orders_encoded__ does what simple dataframe selection by index does, but much faster. Given sparsity of majority of encoded orders columns, it converts this sparse matrix to appropriate format, efficient for rows selection. And then __utils.locate_orders_encoded__ gathers everything together.\n",
    "\n",
    "All threshold values were selected for demonstrative purposes."
   ]
  },
  {
   "cell_type": "code",
   "execution_count": 1,
   "metadata": {},
   "outputs": [],
   "source": [
    "import numpy\n",
    "import pandas\n",
    "\n",
    "%matplotlib inline\n",
    "from matplotlib import pyplot as plot\n",
    "\n",
    "from utils import yield_materials_support, locate_orders_encoded, mine_associations"
   ]
  },
  {
   "cell_type": "code",
   "execution_count": 2,
   "metadata": {},
   "outputs": [],
   "source": [
    "orders = pandas.read_pickle('data/orders_p.pkl.gz')"
   ]
  },
  {
   "cell_type": "code",
   "execution_count": 3,
   "metadata": {},
   "outputs": [
    {
     "name": "stdout",
     "output_type": "stream",
     "text": [
      "Materials supports (min, max): (4.3645765727860793e-07, 0.06214589644692915)\n",
      "Materials supports median: 4.3645765727860794e-06\n",
      "Materials supports 95 percentile: 0.0005448737393466132\n",
      "Materials supports above .1 percent threshold: 535\n"
     ]
    }
   ],
   "source": [
    "materials = dict(yield_materials_support(orders))\n",
    "supports = list(materials.values())\n",
    "\n",
    "print('Materials supports (min, max):', (min(supports), max(supports)))\n",
    "print('Materials supports median:', numpy.median(supports))\n",
    "print('Materials supports 95 percentile:', numpy.percentile(supports, 95))\n",
    "print('Materials supports above .1 percent threshold:', sum(numpy.array(supports) >= .001))"
   ]
  },
  {
   "cell_type": "code",
   "execution_count": 4,
   "metadata": {},
   "outputs": [
    {
     "name": "stdout",
     "output_type": "stream",
     "text": [
      "Organizations distribution of materials supported above .1 percent threshold:\n",
      "1000       519\n",
      "2000       580\n",
      "3000       562\n",
      "4001       561\n",
      "7000       772\n"
     ]
    }
   ],
   "source": [
    "orgs = dict((\n",
    "    (\n",
    "        org,\n",
    "        len(list(yield_materials_support(locate_orders_encoded(orders, indexes), .001)))\n",
    "    )\n",
    "    for (org, indexes) in orders.groupby('org').groups.items()\n",
    "))\n",
    "\n",
    "print('Organizations distribution of materials supported above .1 percent threshold:')\n",
    "for (org, support) in orgs.items():\n",
    "    print('{:<10} {}'.format(org, support))"
   ]
  },
  {
   "cell_type": "code",
   "execution_count": 5,
   "metadata": {},
   "outputs": [],
   "source": [
    "mining_params = {\n",
    "    'support_threshold': .001,\n",
    "    'confidence_threshold': .9,\n",
    "    'lift_threshold': 1\n",
    "}"
   ]
  },
  {
   "cell_type": "code",
   "execution_count": 6,
   "metadata": {},
   "outputs": [],
   "source": [
    "associations = mine_associations(orders, **mining_params)\n",
    "associations['org'] = pandas.Series([ None ] * len(associations))"
   ]
  },
  {
   "cell_type": "code",
   "execution_count": 7,
   "metadata": {},
   "outputs": [],
   "source": [
    "for (org, indexes) in orders.groupby('org').groups.items():\n",
    "    org_associations = mine_associations(locate_orders_encoded(orders, indexes), **mining_params)\n",
    "    org_associations['org'] = [ org ] * len(org_associations)\n",
    "\n",
    "    associations = associations.append(org_associations)"
   ]
  },
  {
   "cell_type": "code",
   "execution_count": 8,
   "metadata": {},
   "outputs": [
    {
     "name": "stdout",
     "output_type": "stream",
     "text": [
      "2561 associations for organization \"7000\" vs 29 as max of rest organizations associations\n"
     ]
    }
   ],
   "source": [
    "distribution = associations.org.transform(lambda v: str(v)).value_counts()\n",
    "\n",
    "print('{} associations for organization \"7000\" vs {} as max of rest organizations associations'\n",
    "    .format(\n",
    "        distribution['7000'], \n",
    "        max(( distribution[key] for key in set(distribution.keys()).difference({ '7000' }) ))\n",
    "    )\n",
    ")"
   ]
  },
  {
   "cell_type": "markdown",
   "metadata": {},
   "source": [
    "There is huge amount of additional rules uncovered by MBA for ogranization \"7000\". For demonstrative purposes, rules are filtered even further using .02 support threshold."
   ]
  },
  {
   "cell_type": "code",
   "execution_count": 9,
   "metadata": {},
   "outputs": [],
   "source": [
    "associations = associations[(associations.org != 7000) | (associations.support >= .02)]"
   ]
  },
  {
   "cell_type": "code",
   "execution_count": 10,
   "metadata": {},
   "outputs": [
    {
     "data": {
      "image/png": "[encoded data removed]",
      "text/plain": [
       "<Figure size 432x288 with 1 Axes>"
      ]
     },
     "metadata": {
      "needs_background": "light"
     },
     "output_type": "display_data"
    }
   ],
   "source": [
    "distribution = associations.org.transform(lambda v: str(v)).value_counts()\n",
    "\n",
    "plot.bar(distribution.keys(), distribution.values)\n",
    "plot.title('Associations organizations distribution histogram')\n",
    "plot.xlabel('Organization')\n",
    "plot.ylabel('Count of associations'.format(len(orders)))\n",
    "plot.show()"
   ]
  },
  {
   "cell_type": "code",
   "execution_count": 11,
   "metadata": {},
   "outputs": [],
   "source": [
    "associations = associations[[ 'org', *[ column for column in list(associations.columns) if (column != 'org') ] ]]\n",
    "\n",
    "joiner = lambda b: ' '.join(b)\n",
    "associations.antecedents = associations.antecedents.transform(joiner)\n",
    "associations.consequents = associations.consequents.transform(joiner)"
   ]
  },
  {
   "cell_type": "code",
   "execution_count": 12,
   "metadata": {},
   "outputs": [],
   "source": [
    "associations.to_csv('data/associations.csv', index=False)"
   ]
  },
  {
   "cell_type": "markdown",
   "metadata": {},
   "source": [
    "Plenty enough rules uncovered and written to csv. Deal with it"
   ]
  }
 ],
 "metadata": {
  "kernelspec": {
   "display_name": "Python 3",
   "language": "python",
   "name": "python3"
  },
  "language_info": {
   "codemirror_mode": {
    "name": "ipython",
    "version": 3
   },
   "file_extension": ".py",
   "mimetype": "text/x-python",
   "name": "python",
   "nbconvert_exporter": "python",
   "pygments_lexer": "ipython3",
   "version": "3.7.6"
  }
 },
 "nbformat": 4,
 "nbformat_minor": 4
}
